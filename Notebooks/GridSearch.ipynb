{
 "cells": [
  {
   "cell_type": "markdown",
   "metadata": {},
   "source": [
    "## SVC with Grid Search"
   ]
  },
  {
   "cell_type": "code",
   "execution_count": 1,
   "metadata": {
    "collapsed": true
   },
   "outputs": [],
   "source": [
    "from sklearn.model_selection import train_test_split\n",
    "from sklearn.datasets import make_moons\n",
    "from sklearn.svm import SVC\n",
    "\n",
    "from sklearn.model_selection import GridSearchCV\n",
    "import sklearn\n",
    "import numpy as np\n",
    "\n",
    "np.random.seed(42)\n",
    "random_state = 42"
   ]
  },
  {
   "cell_type": "code",
   "execution_count": 2,
   "metadata": {},
   "outputs": [
    {
     "name": "stdout",
     "output_type": "stream",
     "text": [
      "Fitting 5 folds for each of 17 candidates, totalling 85 fits\n",
      "[CV] C=10.0, kernel=linear ...........................................\n",
      "[CV] ............................ C=10.0, kernel=linear, total=   0.0s\n",
      "[CV] C=10.0, kernel=linear ...........................................\n",
      "[CV] ............................ C=10.0, kernel=linear, total=   0.0s\n",
      "[CV] C=10.0, kernel=linear ...........................................\n",
      "[CV] ............................ C=10.0, kernel=linear, total=   0.0s\n",
      "[CV] C=10.0, kernel=linear ...........................................\n",
      "[CV] ............................ C=10.0, kernel=linear, total=   0.0s\n",
      "[CV] C=10.0, kernel=linear ...........................................\n",
      "[CV] ............................ C=10.0, kernel=linear, total=   0.0s\n",
      "[CV] C=30.0, kernel=linear ...........................................\n",
      "[CV] ............................ C=30.0, kernel=linear, total=   0.0s\n",
      "[CV] C=30.0, kernel=linear ...........................................\n",
      "[CV] ............................ C=30.0, kernel=linear, total=   0.0s\n",
      "[CV] C=30.0, kernel=linear ...........................................\n",
      "[CV] ............................ C=30.0, kernel=linear, total=   0.0s\n",
      "[CV] C=30.0, kernel=linear ...........................................\n",
      "[CV] ............................ C=30.0, kernel=linear, total=   0.0s\n",
      "[CV] C=30.0, kernel=linear ...........................................\n",
      "[CV] ............................ C=30.0, kernel=linear, total=   0.0s\n",
      "[CV] C=100.0, kernel=linear ..........................................\n",
      "[CV] ........................... C=100.0, kernel=linear, total=   0.0s\n",
      "[CV] C=100.0, kernel=linear ..........................................\n",
      "[CV] ........................... C=100.0, kernel=linear, total=   0.0s\n",
      "[CV] C=100.0, kernel=linear ..........................................\n",
      "[CV] ........................... C=100.0, kernel=linear, total=   0.0s\n",
      "[CV] C=100.0, kernel=linear ..........................................\n",
      "[CV] ........................... C=100.0, kernel=linear, total=   0.0s\n",
      "[CV] C=100.0, kernel=linear ..........................................\n",
      "[CV] ........................... C=100.0, kernel=linear, total=   0.0s\n",
      "[CV] C=300.0, kernel=linear ..........................................\n",
      "[CV] ........................... C=300.0, kernel=linear, total=   0.0s\n",
      "[CV] C=300.0, kernel=linear ..........................................\n",
      "[CV] ........................... C=300.0, kernel=linear, total=   0.0s\n",
      "[CV] C=300.0, kernel=linear ..........................................\n",
      "[CV] ........................... C=300.0, kernel=linear, total=   0.0s\n",
      "[CV] C=300.0, kernel=linear ..........................................\n",
      "[CV] ........................... C=300.0, kernel=linear, total=   0.0s\n",
      "[CV] C=300.0, kernel=linear ..........................................\n"
     ]
    },
    {
     "name": "stderr",
     "output_type": "stream",
     "text": [
      "[Parallel(n_jobs=1)]: Using backend SequentialBackend with 1 concurrent workers.\n",
      "[Parallel(n_jobs=1)]: Done   1 out of   1 | elapsed:    0.0s remaining:    0.0s\n"
     ]
    },
    {
     "name": "stdout",
     "output_type": "stream",
     "text": [
      "[CV] ........................... C=300.0, kernel=linear, total=   0.0s\n",
      "[CV] C=1000.0, kernel=linear .........................................\n",
      "[CV] .......................... C=1000.0, kernel=linear, total=   0.1s\n",
      "[CV] C=1000.0, kernel=linear .........................................\n",
      "[CV] .......................... C=1000.0, kernel=linear, total=   0.1s\n",
      "[CV] C=1000.0, kernel=linear .........................................\n",
      "[CV] .......................... C=1000.0, kernel=linear, total=   0.1s\n",
      "[CV] C=1000.0, kernel=linear .........................................\n",
      "[CV] .......................... C=1000.0, kernel=linear, total=   0.0s\n",
      "[CV] C=1000.0, kernel=linear .........................................\n",
      "[CV] .......................... C=1000.0, kernel=linear, total=   0.0s\n",
      "[CV] C=1.0, gamma=0.01, kernel=rbf ...................................\n",
      "[CV] .................... C=1.0, gamma=0.01, kernel=rbf, total=   0.0s\n",
      "[CV] C=1.0, gamma=0.01, kernel=rbf ...................................\n",
      "[CV] .................... C=1.0, gamma=0.01, kernel=rbf, total=   0.0s\n",
      "[CV] C=1.0, gamma=0.01, kernel=rbf ...................................\n",
      "[CV] .................... C=1.0, gamma=0.01, kernel=rbf, total=   0.0s\n",
      "[CV] C=1.0, gamma=0.01, kernel=rbf ...................................\n",
      "[CV] .................... C=1.0, gamma=0.01, kernel=rbf, total=   0.0s\n",
      "[CV] C=1.0, gamma=0.01, kernel=rbf ...................................\n",
      "[CV] .................... C=1.0, gamma=0.01, kernel=rbf, total=   0.0s\n",
      "[CV] C=1.0, gamma=0.03, kernel=rbf ...................................\n",
      "[CV] .................... C=1.0, gamma=0.03, kernel=rbf, total=   0.0s\n",
      "[CV] C=1.0, gamma=0.03, kernel=rbf ...................................\n",
      "[CV] .................... C=1.0, gamma=0.03, kernel=rbf, total=   0.0s\n",
      "[CV] C=1.0, gamma=0.03, kernel=rbf ...................................\n",
      "[CV] .................... C=1.0, gamma=0.03, kernel=rbf, total=   0.0s\n",
      "[CV] C=1.0, gamma=0.03, kernel=rbf ...................................\n",
      "[CV] .................... C=1.0, gamma=0.03, kernel=rbf, total=   0.0s\n",
      "[CV] C=1.0, gamma=0.03, kernel=rbf ...................................\n",
      "[CV] .................... C=1.0, gamma=0.03, kernel=rbf, total=   0.0s\n",
      "[CV] C=1.0, gamma=0.1, kernel=rbf ....................................\n",
      "[CV] ..................... C=1.0, gamma=0.1, kernel=rbf, total=   0.0s\n",
      "[CV] C=1.0, gamma=0.1, kernel=rbf ....................................\n",
      "[CV] ..................... C=1.0, gamma=0.1, kernel=rbf, total=   0.0s\n",
      "[CV] C=1.0, gamma=0.1, kernel=rbf ....................................\n",
      "[CV] ..................... C=1.0, gamma=0.1, kernel=rbf, total=   0.0s\n",
      "[CV] C=1.0, gamma=0.1, kernel=rbf ....................................\n",
      "[CV] ..................... C=1.0, gamma=0.1, kernel=rbf, total=   0.0s\n",
      "[CV] C=1.0, gamma=0.1, kernel=rbf ....................................\n",
      "[CV] ..................... C=1.0, gamma=0.1, kernel=rbf, total=   0.0s\n",
      "[CV] C=3.0, gamma=0.01, kernel=rbf ...................................\n",
      "[CV] .................... C=3.0, gamma=0.01, kernel=rbf, total=   0.0s\n",
      "[CV] C=3.0, gamma=0.01, kernel=rbf ...................................\n",
      "[CV] .................... C=3.0, gamma=0.01, kernel=rbf, total=   0.0s\n",
      "[CV] C=3.0, gamma=0.01, kernel=rbf ...................................\n",
      "[CV] .................... C=3.0, gamma=0.01, kernel=rbf, total=   0.0s\n",
      "[CV] C=3.0, gamma=0.01, kernel=rbf ...................................\n",
      "[CV] .................... C=3.0, gamma=0.01, kernel=rbf, total=   0.0s\n",
      "[CV] C=3.0, gamma=0.01, kernel=rbf ...................................\n",
      "[CV] .................... C=3.0, gamma=0.01, kernel=rbf, total=   0.0s\n",
      "[CV] C=3.0, gamma=0.03, kernel=rbf ...................................\n",
      "[CV] .................... C=3.0, gamma=0.03, kernel=rbf, total=   0.0s\n",
      "[CV] C=3.0, gamma=0.03, kernel=rbf ...................................\n",
      "[CV] .................... C=3.0, gamma=0.03, kernel=rbf, total=   0.0s\n",
      "[CV] C=3.0, gamma=0.03, kernel=rbf ...................................\n",
      "[CV] .................... C=3.0, gamma=0.03, kernel=rbf, total=   0.0s\n",
      "[CV] C=3.0, gamma=0.03, kernel=rbf ...................................\n",
      "[CV] .................... C=3.0, gamma=0.03, kernel=rbf, total=   0.0s\n",
      "[CV] C=3.0, gamma=0.03, kernel=rbf ...................................\n",
      "[CV] .................... C=3.0, gamma=0.03, kernel=rbf, total=   0.0s\n",
      "[CV] C=3.0, gamma=0.1, kernel=rbf ....................................\n",
      "[CV] ..................... C=3.0, gamma=0.1, kernel=rbf, total=   0.0s\n",
      "[CV] C=3.0, gamma=0.1, kernel=rbf ....................................\n",
      "[CV] ..................... C=3.0, gamma=0.1, kernel=rbf, total=   0.0s\n",
      "[CV] C=3.0, gamma=0.1, kernel=rbf ....................................\n",
      "[CV] ..................... C=3.0, gamma=0.1, kernel=rbf, total=   0.0s\n",
      "[CV] C=3.0, gamma=0.1, kernel=rbf ....................................\n",
      "[CV] ..................... C=3.0, gamma=0.1, kernel=rbf, total=   0.0s\n",
      "[CV] C=3.0, gamma=0.1, kernel=rbf ....................................\n",
      "[CV] ..................... C=3.0, gamma=0.1, kernel=rbf, total=   0.0s\n",
      "[CV] C=10.0, gamma=0.01, kernel=rbf ..................................\n",
      "[CV] ................... C=10.0, gamma=0.01, kernel=rbf, total=   0.0s\n",
      "[CV] C=10.0, gamma=0.01, kernel=rbf ..................................\n",
      "[CV] ................... C=10.0, gamma=0.01, kernel=rbf, total=   0.0s\n",
      "[CV] C=10.0, gamma=0.01, kernel=rbf ..................................\n",
      "[CV] ................... C=10.0, gamma=0.01, kernel=rbf, total=   0.0s\n",
      "[CV] C=10.0, gamma=0.01, kernel=rbf ..................................\n",
      "[CV] ................... C=10.0, gamma=0.01, kernel=rbf, total=   0.0s\n",
      "[CV] C=10.0, gamma=0.01, kernel=rbf ..................................\n",
      "[CV] ................... C=10.0, gamma=0.01, kernel=rbf, total=   0.0s\n",
      "[CV] C=10.0, gamma=0.03, kernel=rbf ..................................\n",
      "[CV] ................... C=10.0, gamma=0.03, kernel=rbf, total=   0.0s\n",
      "[CV] C=10.0, gamma=0.03, kernel=rbf ..................................\n",
      "[CV] ................... C=10.0, gamma=0.03, kernel=rbf, total=   0.0s\n",
      "[CV] C=10.0, gamma=0.03, kernel=rbf ..................................\n",
      "[CV] ................... C=10.0, gamma=0.03, kernel=rbf, total=   0.0s\n",
      "[CV] C=10.0, gamma=0.03, kernel=rbf ..................................\n",
      "[CV] ................... C=10.0, gamma=0.03, kernel=rbf, total=   0.0s\n",
      "[CV] C=10.0, gamma=0.03, kernel=rbf ..................................\n",
      "[CV] ................... C=10.0, gamma=0.03, kernel=rbf, total=   0.0s\n",
      "[CV] C=10.0, gamma=0.1, kernel=rbf ...................................\n",
      "[CV] .................... C=10.0, gamma=0.1, kernel=rbf, total=   0.0s\n",
      "[CV] C=10.0, gamma=0.1, kernel=rbf ...................................\n",
      "[CV] .................... C=10.0, gamma=0.1, kernel=rbf, total=   0.0s\n",
      "[CV] C=10.0, gamma=0.1, kernel=rbf ...................................\n",
      "[CV] .................... C=10.0, gamma=0.1, kernel=rbf, total=   0.0s\n",
      "[CV] C=10.0, gamma=0.1, kernel=rbf ...................................\n",
      "[CV] .................... C=10.0, gamma=0.1, kernel=rbf, total=   0.0s\n",
      "[CV] C=10.0, gamma=0.1, kernel=rbf ...................................\n",
      "[CV] .................... C=10.0, gamma=0.1, kernel=rbf, total=   0.0s\n",
      "[CV] C=30.0, gamma=0.01, kernel=rbf ..................................\n",
      "[CV] ................... C=30.0, gamma=0.01, kernel=rbf, total=   0.0s\n",
      "[CV] C=30.0, gamma=0.01, kernel=rbf ..................................\n",
      "[CV] ................... C=30.0, gamma=0.01, kernel=rbf, total=   0.0s\n",
      "[CV] C=30.0, gamma=0.01, kernel=rbf ..................................\n",
      "[CV] ................... C=30.0, gamma=0.01, kernel=rbf, total=   0.0s\n",
      "[CV] C=30.0, gamma=0.01, kernel=rbf ..................................\n",
      "[CV] ................... C=30.0, gamma=0.01, kernel=rbf, total=   0.0s\n",
      "[CV] C=30.0, gamma=0.01, kernel=rbf ..................................\n",
      "[CV] ................... C=30.0, gamma=0.01, kernel=rbf, total=   0.0s\n",
      "[CV] C=30.0, gamma=0.03, kernel=rbf ..................................\n",
      "[CV] ................... C=30.0, gamma=0.03, kernel=rbf, total=   0.0s\n",
      "[CV] C=30.0, gamma=0.03, kernel=rbf ..................................\n",
      "[CV] ................... C=30.0, gamma=0.03, kernel=rbf, total=   0.0s\n",
      "[CV] C=30.0, gamma=0.03, kernel=rbf ..................................\n",
      "[CV] ................... C=30.0, gamma=0.03, kernel=rbf, total=   0.0s\n",
      "[CV] C=30.0, gamma=0.03, kernel=rbf ..................................\n",
      "[CV] ................... C=30.0, gamma=0.03, kernel=rbf, total=   0.0s\n",
      "[CV] C=30.0, gamma=0.03, kernel=rbf ..................................\n",
      "[CV] ................... C=30.0, gamma=0.03, kernel=rbf, total=   0.0s\n",
      "[CV] C=30.0, gamma=0.1, kernel=rbf ...................................\n",
      "[CV] .................... C=30.0, gamma=0.1, kernel=rbf, total=   0.0s\n",
      "[CV] C=30.0, gamma=0.1, kernel=rbf ...................................\n",
      "[CV] .................... C=30.0, gamma=0.1, kernel=rbf, total=   0.0s\n",
      "[CV] C=30.0, gamma=0.1, kernel=rbf ...................................\n",
      "[CV] .................... C=30.0, gamma=0.1, kernel=rbf, total=   0.0s\n",
      "[CV] C=30.0, gamma=0.1, kernel=rbf ...................................\n",
      "[CV] .................... C=30.0, gamma=0.1, kernel=rbf, total=   0.0s\n",
      "[CV] C=30.0, gamma=0.1, kernel=rbf ...................................\n",
      "[CV] .................... C=30.0, gamma=0.1, kernel=rbf, total=   0.0s\n"
     ]
    },
    {
     "name": "stderr",
     "output_type": "stream",
     "text": [
      "[Parallel(n_jobs=1)]: Done  85 out of  85 | elapsed:    0.8s finished\n"
     ]
    },
    {
     "data": {
      "text/plain": [
       "GridSearchCV(cv=5, error_score=nan,\n",
       "             estimator=SVC(C=1.0, break_ties=False, cache_size=200,\n",
       "                           class_weight=None, coef0=0.0,\n",
       "                           decision_function_shape='ovr', degree=3,\n",
       "                           gamma='scale', kernel='rbf', max_iter=-1,\n",
       "                           probability=False, random_state=None, shrinking=True,\n",
       "                           tol=0.001, verbose=False),\n",
       "             iid='deprecated', n_jobs=None,\n",
       "             param_grid=[{'C': [10.0, 30.0, 100.0, 300.0, 1000.0],\n",
       "                          'kernel': ['linear']},\n",
       "                         {'C': [1.0, 3.0, 10.0, 30.0],\n",
       "                          'gamma': [0.01, 0.03, 0.1], 'kernel': ['rbf']}],\n",
       "             pre_dispatch='2*n_jobs', refit=True, return_train_score=False,\n",
       "             scoring='f1', verbose=2)"
      ]
     },
     "execution_count": 2,
     "metadata": {},
     "output_type": "execute_result"
    }
   ],
   "source": [
    "X, y = make_moons(n_samples=500, noise=0.30, random_state = random_state)\n",
    "X_train, X_test, y_train, y_test = train_test_split(X, y, random_state = random_state)\n",
    "\n",
    "param_grid = [\n",
    "        {'kernel': ['linear'], 'C': [10., 30., 100., 300., 1000.]},\n",
    "        {'kernel': ['rbf'], 'C': [1.0, 3.0, 10., 30.],\n",
    "         'gamma': [0.01, 0.03, 0.1]},\n",
    "    ]\n",
    "\n",
    "svm_clf = SVC()\n",
    "svm_grid_search = GridSearchCV(svm_clf, param_grid, cv=5, scoring='f1', verbose=2)\n",
    "svm_grid_search.fit(X_train, y_train)"
   ]
  },
  {
   "cell_type": "code",
   "execution_count": 5,
   "metadata": {},
   "outputs": [
    {
     "data": {
      "text/plain": [
       "0.8901596789815969"
      ]
     },
     "execution_count": 5,
     "metadata": {},
     "output_type": "execute_result"
    }
   ],
   "source": [
    "svm_grid_search.best_score_"
   ]
  },
  {
   "cell_type": "code",
   "execution_count": 6,
   "metadata": {},
   "outputs": [
    {
     "data": {
      "text/plain": [
       "{'C': 30.0, 'gamma': 0.1, 'kernel': 'rbf'}"
      ]
     },
     "execution_count": 6,
     "metadata": {},
     "output_type": "execute_result"
    }
   ],
   "source": [
    "svm_grid_search.best_params_"
   ]
  },
  {
   "cell_type": "code",
   "execution_count": null,
   "metadata": {
    "collapsed": true
   },
   "outputs": [],
   "source": [
    "# TP\n",
    "Randomized search"
   ]
  }
 ],
 "metadata": {
  "kernelspec": {
   "display_name": "Python 3",
   "language": "python",
   "name": "python3"
  },
  "language_info": {
   "codemirror_mode": {
    "name": "ipython",
    "version": 3
   },
   "file_extension": ".py",
   "mimetype": "text/x-python",
   "name": "python",
   "nbconvert_exporter": "python",
   "pygments_lexer": "ipython3",
   "version": "3.6.1"
  }
 },
 "nbformat": 4,
 "nbformat_minor": 2
}
